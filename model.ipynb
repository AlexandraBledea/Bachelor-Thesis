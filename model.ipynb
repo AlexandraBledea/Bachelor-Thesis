{
 "cells": [
  {
   "cell_type": "code",
   "execution_count": 1,
   "metadata": {
    "collapsed": true
   },
   "outputs": [
    {
     "name": "stdout",
     "output_type": "stream",
     "text": [
      "WARNING:tensorflow:From C:\\Users\\night\\AppData\\Local\\Temp\\ipykernel_16664\\1794348541.py:13: is_gpu_available (from tensorflow.python.framework.test_util) is deprecated and will be removed in a future version.\n",
      "Instructions for updating:\n",
      "Use `tf.config.list_physical_devices('GPU')` instead.\n",
      "no\n"
     ]
    }
   ],
   "source": [
    "import pandas as pd\n",
    "import numpy as np\n",
    "import os\n",
    "import seaborn as sns\n",
    "import matplotlib.pyplot as plt\n",
    "import librosa\n",
    "import librosa.display\n",
    "from IPython.display import Audio\n",
    "import warnings\n",
    "import tensorflow as tf\n",
    "from sklearn.model_selection import train_test_split\n",
    "\n",
    "if tf.test.is_gpu_available():\n",
    "    print(\"yes\")\n",
    "else:\n",
    "    print(\"no\")\n",
    "\n",
    "\n",
    "path_save_files = \"C:\\\\Users\\\\night\\\\Desktop\\\\Facultate An 3\\\\Thesis\\\\EXPERIMENTS\\\\Model 1\\\\\"\n"
   ]
  },
  {
   "cell_type": "code",
   "execution_count": null,
   "outputs": [],
   "source": [
    "path = \"C:\\\\Users\\\\night\\\\Desktop\\\\Facultate An 3\\\\Thesis\\\\Datasets\\\\Used datasets\\\\\"\n",
    "\n",
    "predict_paths = []\n",
    "predict_labels = []\n",
    "for dirname, _, filenames in os.walk(path + 'savee'):\n",
    "    for filename in filenames:\n",
    "        label = filename.split('.')[0]\n",
    "        label = list(label)\n",
    "\n",
    "        if label[0] != \"n\":\n",
    "            predict_paths.append(os.path.join(dirname, filename))\n",
    "\n",
    "\n",
    "        if label[0] == 'a':\n",
    "            predict_labels.append(\"anger\")\n",
    "        elif label[0] == 'd':\n",
    "            predict_labels.append(\"disgust\")\n",
    "        elif label[0] == 'f':\n",
    "            predict_labels.append(\"fear\")\n",
    "        elif label[0] == \"h\":\n",
    "            predict_labels.append(\"happiness\")\n",
    "        elif label[0] == \"s\" and label[1] == \"a\":\n",
    "            predict_labels.append(\"sadness\")\n",
    "        elif label[0] == \"s\" and label[1] == \"u\":\n",
    "            predict_labels.append(\"surprised\")\n",
    "\n",
    "print('Savee Dataset is loaded')"
   ],
   "metadata": {
    "collapsed": false
   }
  },
  {
   "cell_type": "code",
   "execution_count": 2,
   "outputs": [
    {
     "name": "stdout",
     "output_type": "stream",
     "text": [
      "TESS Toronto Dataset is loaded\n"
     ]
    }
   ],
   "source": [
    "path = \"C:\\\\Users\\\\night\\\\Desktop\\\\Facultate An 3\\\\Thesis\\\\Datasets\\\\Used datasets\\\\\"\n",
    "\n",
    "train_paths = []\n",
    "train_labels = []\n",
    "for dirname, _, filenames in os.walk(path + 'tess'):\n",
    "    for filename in filenames:\n",
    "        label = filename.split('_')[-1]\n",
    "        label = label.split('.')[0]\n",
    "\n",
    "        if label != \"neutral\" and label != \"ps\":\n",
    "            train_paths.append(os.path.join(dirname, filename))\n",
    "\n",
    "        if label == \"angry\":\n",
    "            train_labels.append(\"anger\")\n",
    "        elif label == \"disgust\":\n",
    "            train_labels.append(\"disgust\")\n",
    "        elif label == \"fear\":\n",
    "            train_labels.append(\"fear\")\n",
    "        elif label == \"happy\":\n",
    "            train_labels.append(\"happiness\")\n",
    "        elif label == \"sad\":\n",
    "            train_labels.append(\"sadness\")\n",
    "        # train_labels.append(label.lower())\n",
    "\n",
    "print('TESS Toronto Dataset is loaded')"
   ],
   "metadata": {
    "collapsed": false
   }
  },
  {
   "cell_type": "code",
   "execution_count": null,
   "outputs": [],
   "source": [
    "path = \"C:\\\\Users\\\\night\\\\Desktop\\\\Facultate An 3\\\\Thesis\\\\Datasets\\\\Used datasets\\\\\"\n",
    "#\n",
    "# train_paths = []\n",
    "# train_labels = []\n",
    "intensity = []\n",
    "for dirname, _, filenames in os.walk(path + 'ravdess'):\n",
    "    for filename in filenames:\n",
    "\n",
    "        label = filename.split('-')\n",
    "        emotion_label = label[2]\n",
    "        intensity_label = label[3]\n",
    "        if emotion_label != \"01\" and emotion_label != \"02\" and emotion_label != \"08\":\n",
    "            train_paths.append(os.path.join(dirname, filename))\n",
    "\n",
    "\n",
    "        if emotion_label == \"03\":\n",
    "            train_labels.append(\"happiness\")\n",
    "        elif emotion_label == \"05\":\n",
    "            train_labels.append(\"anger\")\n",
    "        elif emotion_label == \"07\":\n",
    "            train_labels.append(\"disgust\")\n",
    "        elif emotion_label == \"06\":\n",
    "            train_labels.append(\"fear\")\n",
    "        elif emotion_label == \"04\":\n",
    "            train_labels.append(\"sadness\")\n",
    "\n",
    "\n",
    "print('RAVDESS Dataset is loaded')"
   ],
   "metadata": {
    "collapsed": false
   }
  },
  {
   "cell_type": "code",
   "execution_count": null,
   "outputs": [],
   "source": [
    "path = \"C:\\\\Users\\\\night\\\\Desktop\\\\Facultate An 3\\\\Thesis\\\\Datasets\\\\Used datasets\\\\\"\n",
    "\n",
    "# train_paths = []\n",
    "# train_labels = []\n",
    "# intensity = []\n",
    "for dirname, _, filenames in os.walk(path + \"crema-d\"):\n",
    "    for filename in filenames:\n",
    "\n",
    "        label = filename.split('_')\n",
    "\n",
    "        if label[2] != \"NEU\":\n",
    "            train_paths.append(os.path.join(dirname, filename))\n",
    "\n",
    "        if label[2] == \"HAP\":\n",
    "            train_labels.append(\"happiness\")\n",
    "        elif label[2] == \"ANG\":\n",
    "            train_labels.append(\"anger\")\n",
    "        elif label[2] == \"DIS\":\n",
    "            train_labels.append(\"disgust\")\n",
    "        elif label[2] == \"FEA\":\n",
    "            train_labels.append(\"fear\")\n",
    "        elif label[2] == \"SAD\":\n",
    "            train_labels.append(\"sadness\")\n",
    "\n",
    "\n",
    "print('CREMA-D  Dataset is loaded')"
   ],
   "metadata": {
    "collapsed": false
   }
  },
  {
   "cell_type": "code",
   "execution_count": 3,
   "outputs": [
    {
     "data": {
      "text/plain": "['C:\\\\Users\\\\night\\\\Desktop\\\\Facultate An 3\\\\Thesis\\\\Datasets\\\\Used datasets\\\\tess\\\\OAF_angry\\\\OAF_back_angry.wav',\n 'C:\\\\Users\\\\night\\\\Desktop\\\\Facultate An 3\\\\Thesis\\\\Datasets\\\\Used datasets\\\\tess\\\\OAF_angry\\\\OAF_bar_angry.wav',\n 'C:\\\\Users\\\\night\\\\Desktop\\\\Facultate An 3\\\\Thesis\\\\Datasets\\\\Used datasets\\\\tess\\\\OAF_angry\\\\OAF_base_angry.wav',\n 'C:\\\\Users\\\\night\\\\Desktop\\\\Facultate An 3\\\\Thesis\\\\Datasets\\\\Used datasets\\\\tess\\\\OAF_angry\\\\OAF_bath_angry.wav',\n 'C:\\\\Users\\\\night\\\\Desktop\\\\Facultate An 3\\\\Thesis\\\\Datasets\\\\Used datasets\\\\tess\\\\OAF_angry\\\\OAF_bean_angry.wav',\n 'C:\\\\Users\\\\night\\\\Desktop\\\\Facultate An 3\\\\Thesis\\\\Datasets\\\\Used datasets\\\\tess\\\\OAF_angry\\\\OAF_beg_angry.wav',\n 'C:\\\\Users\\\\night\\\\Desktop\\\\Facultate An 3\\\\Thesis\\\\Datasets\\\\Used datasets\\\\tess\\\\OAF_angry\\\\OAF_bite_angry.wav',\n 'C:\\\\Users\\\\night\\\\Desktop\\\\Facultate An 3\\\\Thesis\\\\Datasets\\\\Used datasets\\\\tess\\\\OAF_angry\\\\OAF_boat_angry.wav',\n 'C:\\\\Users\\\\night\\\\Desktop\\\\Facultate An 3\\\\Thesis\\\\Datasets\\\\Used datasets\\\\tess\\\\OAF_angry\\\\OAF_bone_angry.wav',\n 'C:\\\\Users\\\\night\\\\Desktop\\\\Facultate An 3\\\\Thesis\\\\Datasets\\\\Used datasets\\\\tess\\\\OAF_angry\\\\OAF_book_angry.wav']"
     },
     "execution_count": 3,
     "metadata": {},
     "output_type": "execute_result"
    }
   ],
   "source": [
    "train_paths[:10]"
   ],
   "metadata": {
    "collapsed": false
   }
  },
  {
   "cell_type": "code",
   "execution_count": 4,
   "outputs": [
    {
     "data": {
      "text/plain": "['anger',\n 'anger',\n 'anger',\n 'anger',\n 'anger',\n 'anger',\n 'anger',\n 'anger',\n 'anger',\n 'anger']"
     },
     "execution_count": 4,
     "metadata": {},
     "output_type": "execute_result"
    }
   ],
   "source": [
    "train_labels[:10]"
   ],
   "metadata": {
    "collapsed": false
   }
  },
  {
   "cell_type": "code",
   "execution_count": 5,
   "outputs": [],
   "source": [
    "# Create a dataframe for the train data\n",
    "df_train = pd.DataFrame()\n",
    "df_train['speech'] = train_paths\n",
    "df_train['label'] = train_labels\n",
    "df_train.head()\n",
    "df_train.to_csv(path_save_files + 'data.csv', index=False)"
   ],
   "metadata": {
    "collapsed": false
   }
  },
  {
   "cell_type": "code",
   "execution_count": 6,
   "outputs": [
    {
     "data": {
      "text/plain": "label\nanger        400\ndisgust      400\nfear         400\nhappiness    400\nsadness      400\nName: count, dtype: int64"
     },
     "execution_count": 6,
     "metadata": {},
     "output_type": "execute_result"
    }
   ],
   "source": [
    "df_train['label'].value_counts()"
   ],
   "metadata": {
    "collapsed": false
   }
  },
  {
   "cell_type": "code",
   "execution_count": 7,
   "outputs": [
    {
     "data": {
      "text/plain": "<Axes: xlabel='label', ylabel='count'>"
     },
     "execution_count": 7,
     "metadata": {},
     "output_type": "execute_result"
    },
    {
     "data": {
      "text/plain": "<Figure size 640x480 with 1 Axes>",
      "image/png": "[encoded data removed]"
     },
     "metadata": {},
     "output_type": "display_data"
    }
   ],
   "source": [
    "sns.countplot(df_train, x='label')"
   ],
   "metadata": {
    "collapsed": false
   }
  },
  {
   "cell_type": "code",
   "execution_count": null,
   "outputs": [],
   "source": [],
   "metadata": {
    "collapsed": false
   }
  }
 ],
 "metadata": {
  "kernelspec": {
   "display_name": "Python 3",
   "language": "python",
   "name": "python3"
  },
  "language_info": {
   "codemirror_mode": {
    "name": "ipython",
    "version": 2
   },
   "file_extension": ".py",
   "mimetype": "text/x-python",
   "name": "python",
   "nbconvert_exporter": "python",
   "pygments_lexer": "ipython2",
   "version": "2.7.6"
  }
 },
 "nbformat": 4,
 "nbformat_minor": 0
}
