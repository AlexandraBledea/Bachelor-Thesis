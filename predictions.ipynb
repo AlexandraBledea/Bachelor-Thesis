{
 "cells": [
  {
   "cell_type": "code",
   "execution_count": 5,
   "metadata": {
    "collapsed": true
   },
   "outputs": [
    {
     "name": "stdout",
     "output_type": "stream",
     "text": [
      "no\n"
     ]
    }
   ],
   "source": [
    "import pandas as pd\n",
    "import numpy as np\n",
    "import os\n",
    "import seaborn as sns\n",
    "import matplotlib.pyplot as plt\n",
    "import librosa\n",
    "import librosa.display\n",
    "from IPython.display import Audio\n",
    "import warnings\n",
    "import tensorflow as tf\n",
    "from sklearn.model_selection import train_test_split\n",
    "\n",
    "if tf.test.is_gpu_available():\n",
    "    print(\"yes\")\n",
    "else:\n",
    "    print(\"no\")\n",
    "\n",
    "\n",
    "path_save_files = \"C:\\\\Users\\\\night\\\\Desktop\\\\Facultate An 3\\\\Thesis\\\\EXPERIMENTS\\\\Model 1\\\\\"\n"
   ]
  },
  {
   "cell_type": "code",
   "execution_count": 2,
   "outputs": [
    {
     "name": "stdout",
     "output_type": "stream",
     "text": [
      "TESS Toronto Dataset is loaded\n"
     ]
    }
   ],
   "source": [
    "path = \"C:\\\\Users\\\\night\\\\Desktop\\\\Facultate An 3\\\\Thesis\\\\Datasets\\\\Used datasets\\\\\"\n",
    "\n",
    "predict_paths = []\n",
    "predict_labels = []\n",
    "\n",
    "for dirname, _, filenames in os.walk(path + 'ale2'):\n",
    "    for filename in filenames:\n",
    "        label = filename.split('_')[-1]\n",
    "        label = label.split('.')[0]\n",
    "\n",
    "        if label != \"surprised\":\n",
    "            predict_paths.append(os.path.join(dirname, filename))\n",
    "        # predict_labels.append(\"happiness\")\n",
    "\n",
    "        if label == \"angry\":\n",
    "            predict_labels.append(\"anger\")\n",
    "        elif label == \"disgust\":\n",
    "            predict_labels.append(\"disgust\")\n",
    "        elif label == \"fear\":\n",
    "            predict_labels.append(\"fear\")\n",
    "        elif label == \"happy\":\n",
    "            predict_labels.append(\"happiness\")\n",
    "        elif label == \"sad\":\n",
    "            predict_labels.append(\"sadness\")\n",
    "        # # train_labels.append(label.lower())\n",
    "\n",
    "print('TESS Toronto Dataset is loaded')"
   ],
   "metadata": {
    "collapsed": false
   }
  },
  {
   "cell_type": "code",
   "execution_count": 3,
   "outputs": [
    {
     "data": {
      "text/plain": "['anger', 'disgust', 'fear', 'happiness', 'sadness']"
     },
     "execution_count": 3,
     "metadata": {},
     "output_type": "execute_result"
    }
   ],
   "source": [
    "predict_labels[:10]"
   ],
   "metadata": {
    "collapsed": false
   }
  },
  {
   "cell_type": "code",
   "execution_count": 4,
   "outputs": [
    {
     "data": {
      "text/plain": "['C:\\\\Users\\\\night\\\\Desktop\\\\Facultate An 3\\\\Thesis\\\\Datasets\\\\Used datasets\\\\ale2\\\\ale_angry.wav',\n 'C:\\\\Users\\\\night\\\\Desktop\\\\Facultate An 3\\\\Thesis\\\\Datasets\\\\Used datasets\\\\ale2\\\\ale_disgust.wav',\n 'C:\\\\Users\\\\night\\\\Desktop\\\\Facultate An 3\\\\Thesis\\\\Datasets\\\\Used datasets\\\\ale2\\\\ale_fear.wav',\n 'C:\\\\Users\\\\night\\\\Desktop\\\\Facultate An 3\\\\Thesis\\\\Datasets\\\\Used datasets\\\\ale2\\\\ale_happy.wav',\n 'C:\\\\Users\\\\night\\\\Desktop\\\\Facultate An 3\\\\Thesis\\\\Datasets\\\\Used datasets\\\\ale2\\\\ale_sad.wav']"
     },
     "execution_count": 4,
     "metadata": {},
     "output_type": "execute_result"
    }
   ],
   "source": [
    "predict_paths[:10]"
   ],
   "metadata": {
    "collapsed": false
   }
  },
  {
   "cell_type": "code",
   "execution_count": 5,
   "outputs": [],
   "source": [
    "df_predict = pd.DataFrame()\n",
    "df_predict['speech'] = predict_paths\n",
    "df_predict['label'] = predict_labels\n",
    "df_predict.head()\n",
    "df_predict.to_csv(path_save_files + 'predict.csv', index=False)"
   ],
   "metadata": {
    "collapsed": false
   }
  },
  {
   "cell_type": "code",
   "execution_count": 6,
   "outputs": [
    {
     "data": {
      "text/plain": "label\nanger        1\ndisgust      1\nfear         1\nhappiness    1\nsadness      1\nName: count, dtype: int64"
     },
     "execution_count": 6,
     "metadata": {},
     "output_type": "execute_result"
    }
   ],
   "source": [
    "df_predict['label'].value_counts()"
   ],
   "metadata": {
    "collapsed": false
   }
  },
  {
   "cell_type": "code",
   "execution_count": 7,
   "outputs": [
    {
     "data": {
      "text/plain": "<Axes: xlabel='label', ylabel='count'>"
     },
     "execution_count": 7,
     "metadata": {},
     "output_type": "execute_result"
    },
    {
     "data": {
      "text/plain": "<Figure size 640x480 with 1 Axes>",
      "image/png": "[encoded data removed]"
     },
     "metadata": {},
     "output_type": "display_data"
    }
   ],
   "source": [
    "sns.countplot(df_predict, x='label')"
   ],
   "metadata": {
    "collapsed": false
   }
  },
  {
   "cell_type": "code",
   "execution_count": 8,
   "outputs": [],
   "source": [
    "def waveform(data, sample_rate, emotion):\n",
    "    plt.figure(figsize=(10,4))\n",
    "    plt.title(\"Waveplot for audio with {} emotion\".format(emotion), size=20)\n",
    "    librosa.display.waveshow(data, sr=sample_rate)\n",
    "    plt.show()\n",
    "\n",
    "def spectrogram(data, sample_rate, emotion):\n",
    "\n",
    "    # stft function converts the data into short term fourier transform\n",
    "    x = librosa.stft(data)\n",
    "\n",
    "    # converting the file to decibels\n",
    "    xdb = librosa.amplitude_to_db(np.abs(x))\n",
    "\n",
    "    plt.figure(figsize=(11,4))\n",
    "    plt.title(\"Spectrogram for audio with {} emotion\".format(emotion), size=20)\n",
    "    librosa.display.specshow(xdb, sr=sample_rate, x_axis='time', y_axis='hz')\n",
    "    plt.colorbar()"
   ],
   "metadata": {
    "collapsed": false
   }
  },
  {
   "cell_type": "code",
   "execution_count": 9,
   "outputs": [],
   "source": [
    "def extract_ZCR(signal):\n",
    "    zcr = np.mean(librosa.feature.zero_crossing_rate(y=signal).T, axis=0)\n",
    "    return zcr\n",
    "\n",
    "def extract_root_mean_square_value(signal):\n",
    "    rms = np.mean(librosa.feature.rms(y=signal).T, axis=0)\n",
    "    return rms\n",
    "\n",
    "def extract_mel_spectrogram(signal, sample_rate):\n",
    "    mel = np.mean(librosa.feature.melspectrogram(y=signal, sr=sample_rate).T, axis=0)\n",
    "    return mel\n",
    "\n",
    "def extract_mfcc(signal, sample_rate):\n",
    "    # signal, sample_rate = librosa.load(file_name, duration=3, offset=0.5)\n",
    "    mfcc = np.mean(librosa.feature.mfcc(y=signal, sr=sample_rate, n_mfcc=40).T, axis=0)\n",
    "    return mfcc"
   ],
   "metadata": {
    "collapsed": false
   }
  },
  {
   "cell_type": "code",
   "execution_count": 10,
   "outputs": [],
   "source": [
    "def extract_features(sig, sr):\n",
    "\n",
    "    result = np.array([])\n",
    "\n",
    "    # We are stacking the features horizontally\n",
    "\n",
    "    result = np.hstack((result, extract_ZCR(sig)))\n",
    "    result = np.hstack((result, extract_mel_spectrogram(sig, sr)))\n",
    "    result = np.hstack((result, extract_root_mean_square_value(sig)))\n",
    "    result = np.hstack((result, extract_mfcc(sig, sr)))\n",
    "\n",
    "    return result"
   ],
   "metadata": {
    "collapsed": false
   }
  },
  {
   "cell_type": "code",
   "execution_count": 11,
   "outputs": [],
   "source": [
    "def get_features(file_name):\n",
    "\n",
    "    signal, sample_rate =  librosa.load(file_name, duration=5, offset=0.5)\n",
    "\n",
    "\n",
    "    result1 = extract_features(signal, sample_rate)\n",
    "    result = np.array(result1)\n",
    "\n",
    "\n",
    "    return result"
   ],
   "metadata": {
    "collapsed": false
   }
  },
  {
   "cell_type": "code",
   "execution_count": 12,
   "outputs": [],
   "source": [
    "x_predict = get_features(df_predict['speech'][0])"
   ],
   "metadata": {
    "collapsed": false
   }
  },
  {
   "cell_type": "code",
   "execution_count": 13,
   "outputs": [
    {
     "name": "stdout",
     "output_type": "stream",
     "text": [
      "anger\n"
     ]
    }
   ],
   "source": [
    "y_predict = df_predict['label'][0]\n",
    "expected = y_predict\n",
    "print(y_predict)"
   ],
   "metadata": {
    "collapsed": false
   }
  },
  {
   "cell_type": "code",
   "execution_count": 14,
   "outputs": [],
   "source": [
    "predicts = pd.DataFrame(x_predict)\n",
    "predicts['labels'] = y_predict"
   ],
   "metadata": {
    "collapsed": false
   }
  },
  {
   "cell_type": "code",
   "execution_count": 15,
   "outputs": [],
   "source": [
    "x_predict = predicts.iloc[:, :-1].values\n",
    "y_predict = predicts['labels'].values"
   ],
   "metadata": {
    "collapsed": false
   }
  },
  {
   "cell_type": "code",
   "execution_count": 16,
   "outputs": [
    {
     "data": {
      "text/plain": "(170, 1)"
     },
     "execution_count": 16,
     "metadata": {},
     "output_type": "execute_result"
    }
   ],
   "source": [
    "x_predict.shape"
   ],
   "metadata": {
    "collapsed": false
   }
  },
  {
   "cell_type": "code",
   "execution_count": 17,
   "outputs": [
    {
     "data": {
      "text/plain": "array(['anger', 'anger', 'anger', 'anger', 'anger', 'anger', 'anger',\n       'anger', 'anger', 'anger', 'anger', 'anger', 'anger', 'anger',\n       'anger', 'anger', 'anger', 'anger', 'anger', 'anger', 'anger',\n       'anger', 'anger', 'anger', 'anger', 'anger', 'anger', 'anger',\n       'anger', 'anger', 'anger', 'anger', 'anger', 'anger', 'anger',\n       'anger', 'anger', 'anger', 'anger', 'anger', 'anger', 'anger',\n       'anger', 'anger', 'anger', 'anger', 'anger', 'anger', 'anger',\n       'anger', 'anger', 'anger', 'anger', 'anger', 'anger', 'anger',\n       'anger', 'anger', 'anger', 'anger', 'anger', 'anger', 'anger',\n       'anger', 'anger', 'anger', 'anger', 'anger', 'anger', 'anger',\n       'anger', 'anger', 'anger', 'anger', 'anger', 'anger', 'anger',\n       'anger', 'anger', 'anger', 'anger', 'anger', 'anger', 'anger',\n       'anger', 'anger', 'anger', 'anger', 'anger', 'anger', 'anger',\n       'anger', 'anger', 'anger', 'anger', 'anger', 'anger', 'anger',\n       'anger', 'anger', 'anger', 'anger', 'anger', 'anger', 'anger',\n       'anger', 'anger', 'anger', 'anger', 'anger', 'anger', 'anger',\n       'anger', 'anger', 'anger', 'anger', 'anger', 'anger', 'anger',\n       'anger', 'anger', 'anger', 'anger', 'anger', 'anger', 'anger',\n       'anger', 'anger', 'anger', 'anger', 'anger', 'anger', 'anger',\n       'anger', 'anger', 'anger', 'anger', 'anger', 'anger', 'anger',\n       'anger', 'anger', 'anger', 'anger', 'anger', 'anger', 'anger',\n       'anger', 'anger', 'anger', 'anger', 'anger', 'anger', 'anger',\n       'anger', 'anger', 'anger', 'anger', 'anger', 'anger', 'anger',\n       'anger', 'anger', 'anger', 'anger', 'anger', 'anger', 'anger',\n       'anger', 'anger'], dtype=object)"
     },
     "execution_count": 17,
     "metadata": {},
     "output_type": "execute_result"
    }
   ],
   "source": [
    "y_predict"
   ],
   "metadata": {
    "collapsed": false
   }
  },
  {
   "cell_type": "code",
   "execution_count": 18,
   "outputs": [
    {
     "data": {
      "text/plain": "array([[ 1.53753983e-01],\n       [ 1.17891957e-03],\n       [ 2.13239305e-02],\n       [ 2.61282533e-01],\n       [ 9.74641323e-01],\n       [ 2.45552540e+00],\n       [ 4.53642756e-01],\n       [ 8.96032453e-01],\n       [ 1.65808249e+00],\n       [ 3.68486190e+00],\n       [ 1.58014810e+00],\n       [ 1.79016352e+00],\n       [ 4.14174318e+00],\n       [ 1.60356998e+00],\n       [ 1.37882376e+00],\n       [ 5.19982517e-01],\n       [ 3.69827658e-01],\n       [ 3.36016059e-01],\n       [ 1.08064806e+00],\n       [ 1.24972129e+00],\n       [ 1.76911283e+00],\n       [ 1.66349673e+00],\n       [ 3.32163119e+00],\n       [ 6.56594801e+00],\n       [ 4.03807020e+00],\n       [ 1.48540902e+00],\n       [ 2.01059246e+00],\n       [ 1.74914610e+00],\n       [ 1.15405011e+00],\n       [ 9.98710155e-01],\n       [ 5.08948267e-01],\n       [ 2.03478381e-01],\n       [ 1.77622989e-01],\n       [ 6.59108385e-02],\n       [ 8.71528983e-02],\n       [ 2.68129408e-01],\n       [ 4.06694621e-01],\n       [ 7.06373572e-01],\n       [ 1.49204242e+00],\n       [ 3.34122348e+00],\n       [ 9.05217266e+00],\n       [ 1.41158724e+01],\n       [ 9.93010235e+00],\n       [ 7.69878328e-01],\n       [ 4.51897860e-01],\n       [ 1.61840007e-01],\n       [ 8.14112127e-02],\n       [ 1.59124255e-01],\n       [ 3.97900283e-01],\n       [ 7.41911113e-01],\n       [ 1.27867651e+00],\n       [ 2.62669301e+00],\n       [ 6.67720127e+00],\n       [ 3.00602913e+00],\n       [ 1.09210682e+00],\n       [ 1.03015184e+00],\n       [ 3.79720867e-01],\n       [ 2.08271697e-01],\n       [ 2.22707704e-01],\n       [ 3.11675096e+00],\n       [ 9.13128090e+00],\n       [ 5.69962502e+00],\n       [ 5.90465963e-01],\n       [ 1.82985976e-01],\n       [ 9.34924036e-02],\n       [ 1.24423966e-01],\n       [ 3.47605616e-01],\n       [ 1.31827509e+00],\n       [ 1.08836567e+00],\n       [ 2.88738757e-02],\n       [ 1.43193947e-02],\n       [ 1.66091267e-02],\n       [ 4.17002924e-02],\n       [ 7.61509463e-02],\n       [ 8.19883049e-02],\n       [ 5.16052619e-02],\n       [ 1.82858720e-01],\n       [ 8.52861822e-01],\n       [ 8.73659551e-01],\n       [ 4.58866477e-01],\n       [ 5.92451334e-01],\n       [ 4.76145297e-01],\n       [ 1.61593765e-01],\n       [ 1.00902222e-01],\n       [ 5.05125634e-02],\n       [ 2.11067833e-02],\n       [ 1.49625512e-02],\n       [ 2.52112690e-02],\n       [ 9.20579769e-03],\n       [ 2.01889798e-02],\n       [ 3.05091292e-02],\n       [ 1.56056834e-02],\n       [ 1.36490054e-02],\n       [ 3.61319035e-02],\n       [ 4.25722301e-02],\n       [ 1.48693854e-02],\n       [ 2.24701911e-02],\n       [ 1.86497159e-02],\n       [ 2.42719855e-02],\n       [ 5.19012054e-03],\n       [ 1.86817686e-03],\n       [ 2.78431317e-03],\n       [ 4.64194175e-03],\n       [ 7.57705560e-03],\n       [ 1.19719030e-02],\n       [ 1.52515676e-02],\n       [ 4.73016640e-03],\n       [ 1.96366990e-03],\n       [ 9.26333654e-04],\n       [ 1.26850186e-03],\n       [ 2.93281837e-03],\n       [ 2.65388167e-03],\n       [ 2.12198310e-03],\n       [ 3.08281695e-03],\n       [ 1.77924591e-03],\n       [ 5.48646785e-04],\n       [ 2.29629790e-04],\n       [ 1.49370462e-04],\n       [ 2.43399656e-04],\n       [ 4.07427113e-04],\n       [ 4.42025601e-04],\n       [ 3.02342058e-04],\n       [ 1.53823770e-04],\n       [ 7.26107028e-05],\n       [ 9.00254599e-05],\n       [ 8.28648772e-05],\n       [ 1.32453119e-04],\n       [ 1.34187052e-04],\n       [ 1.96759302e-05],\n       [ 4.41673584e-02],\n       [-3.66161377e+02],\n       [ 7.22891159e+01],\n       [-2.86921425e+01],\n       [ 2.13212357e+01],\n       [-9.48195744e+00],\n       [-7.33346224e+00],\n       [-1.99210334e+00],\n       [-1.18690958e+01],\n       [-1.15925922e+01],\n       [-6.95200777e+00],\n       [-5.29875422e+00],\n       [-1.03226919e+01],\n       [-9.52722454e+00],\n       [ 5.69359255e+00],\n       [-9.51345539e+00],\n       [-1.88666630e+01],\n       [-1.85358167e+00],\n       [-9.29210281e+00],\n       [-1.88777370e+01],\n       [-1.44755840e+00],\n       [-2.12856412e+00],\n       [-5.88536787e+00],\n       [-1.43512189e+00],\n       [-3.77236223e+00],\n       [-2.11486626e+00],\n       [ 2.09146142e-01],\n       [-1.49296761e+00],\n       [-2.43558481e-01],\n       [-4.33517885e+00],\n       [-6.62929595e-01],\n       [ 8.72948289e-01],\n       [-1.16661549e+00],\n       [ 2.06213546e+00],\n       [-5.47106683e-01],\n       [ 3.33065033e+00],\n       [ 3.19290471e+00],\n       [ 2.14988661e+00],\n       [ 4.28087759e+00],\n       [ 3.09340906e+00],\n       [ 3.16209650e+00]])"
     },
     "execution_count": 18,
     "metadata": {},
     "output_type": "execute_result"
    }
   ],
   "source": [
    "x_predict"
   ],
   "metadata": {
    "collapsed": false
   }
  },
  {
   "cell_type": "code",
   "execution_count": 19,
   "outputs": [
    {
     "data": {
      "text/plain": "(170, 1)"
     },
     "execution_count": 19,
     "metadata": {},
     "output_type": "execute_result"
    }
   ],
   "source": [
    "# x_predict = [x[0] for x in x_predict]\n",
    "x_predict = np.array(x_predict)\n",
    "x_predict.shape"
   ],
   "metadata": {
    "collapsed": false
   }
  },
  {
   "cell_type": "code",
   "execution_count": 20,
   "outputs": [
    {
     "data": {
      "text/plain": "(1, 170)"
     },
     "execution_count": 20,
     "metadata": {},
     "output_type": "execute_result"
    }
   ],
   "source": [
    "x_predict = np.transpose(x_predict)\n",
    "x_predict.shape"
   ],
   "metadata": {
    "collapsed": false
   }
  },
  {
   "cell_type": "code",
   "execution_count": 21,
   "outputs": [],
   "source": [
    "import joblib\n",
    "\n",
    "scaler = joblib.load(path_save_files + 'scaler.pk1')\n",
    "x_predict = scaler.transform(x_predict)"
   ],
   "metadata": {
    "collapsed": false
   }
  },
  {
   "cell_type": "code",
   "execution_count": 22,
   "outputs": [],
   "source": [
    "xx = np.expand_dims(x_predict, axis=2)"
   ],
   "metadata": {
    "collapsed": false
   }
  },
  {
   "cell_type": "code",
   "execution_count": 23,
   "outputs": [
    {
     "data": {
      "text/plain": "(1, 170, 1)"
     },
     "execution_count": 23,
     "metadata": {},
     "output_type": "execute_result"
    }
   ],
   "source": [
    "xx.shape"
   ],
   "metadata": {
    "collapsed": false
   }
  },
  {
   "cell_type": "code",
   "execution_count": 24,
   "outputs": [],
   "source": [
    "from keras.models import load_model\n",
    "\n",
    "model = load_model(path_save_files + \"training_model_experiment_x.h5\")"
   ],
   "metadata": {
    "collapsed": false
   }
  },
  {
   "cell_type": "code",
   "execution_count": 25,
   "outputs": [
    {
     "name": "stdout",
     "output_type": "stream",
     "text": [
      "1/1 [==============================] - 1s 1s/step\n"
     ]
    }
   ],
   "source": [
    "result = model.predict(xx)\n"
   ],
   "metadata": {
    "collapsed": false
   }
  },
  {
   "cell_type": "code",
   "execution_count": 26,
   "outputs": [],
   "source": [
    "features = pd.read_csv(path_save_files + 'features.csv')"
   ],
   "metadata": {
    "collapsed": false
   }
  },
  {
   "cell_type": "code",
   "execution_count": 27,
   "outputs": [],
   "source": [
    "X = features.iloc[:, :-1].values\n",
    "Y = features['labels'].values"
   ],
   "metadata": {
    "collapsed": false
   }
  },
  {
   "cell_type": "code",
   "execution_count": 28,
   "outputs": [],
   "source": [
    "from sklearn.preprocessing import OneHotEncoder\n",
    "\n",
    "enc = OneHotEncoder()\n",
    "y_train = enc.fit_transform(Y.reshape(-1, 1))"
   ],
   "metadata": {
    "collapsed": false
   }
  },
  {
   "cell_type": "code",
   "execution_count": 29,
   "outputs": [
    {
     "data": {
      "text/plain": "array([['disgust']], dtype=object)"
     },
     "execution_count": 29,
     "metadata": {},
     "output_type": "execute_result"
    }
   ],
   "source": [
    "enc.inverse_transform(result.reshape(1, -1))"
   ],
   "metadata": {
    "collapsed": false
   }
  },
  {
   "cell_type": "code",
   "execution_count": 30,
   "outputs": [
    {
     "name": "stdout",
     "output_type": "stream",
     "text": [
      "1/1 [==============================] - 0s 38ms/step\n",
      "[[1.3271290e-03 9.9642050e-01 1.2577760e-04 2.0822585e-03 4.4289107e-05]]\n",
      "1\n",
      "[[0. 0. 0. 0. 0.]]\n",
      "[[0. 1. 0. 0. 0.]]\n",
      "Expected prediction:  anger\n",
      "Actual predict:  disgust\n"
     ]
    }
   ],
   "source": [
    "# We take the models prediction\n",
    "prediction = model.predict(xx)\n",
    "print(prediction)\n",
    "\n",
    "# We take the index of the greatest predicted probability\n",
    "prediction_index = np.argmax(prediction)\n",
    "print(prediction_index)\n",
    "\n",
    "# We convert the index to a one-hot encoder vector\n",
    "prediction_index_2d = np.zeros_like(prediction)\n",
    "print(prediction_index_2d)\n",
    "prediction_index_2d[0][prediction_index] = 1\n",
    "print(prediction_index_2d)\n",
    "\n",
    "# Inverse transform the one-hot encoded vector to get the predicted label\n",
    "prediction_label_enc = enc.inverse_transform(prediction_index_2d)\n",
    "prediction_label = prediction_label_enc[0][0]\n",
    "\n",
    "\n",
    "print(\"Expected prediction: \", expected)\n",
    "print(\"Actual predict: \", prediction_label)\n"
   ],
   "metadata": {
    "collapsed": false
   }
  },
  {
   "cell_type": "code",
   "execution_count": 31,
   "outputs": [
    {
     "name": "stdout",
     "output_type": "stream",
     "text": [
      "[[1.3271290e-03 9.9642050e-01 1.2577760e-04 2.0822585e-03 4.4289107e-05]]\n"
     ]
    }
   ],
   "source": [
    "print(result)"
   ],
   "metadata": {
    "collapsed": false
   }
  },
  {
   "cell_type": "code",
   "execution_count": 435,
   "outputs": [],
   "source": [
    "res = {0: 'anger', 1: 'disgust', 2: 'fear', 3: 'happy', 4: 'sad'}\n"
   ],
   "metadata": {
    "collapsed": false
   }
  },
  {
   "cell_type": "code",
   "execution_count": 344,
   "outputs": [
    {
     "name": "stdout",
     "output_type": "stream",
     "text": [
      "[1. 0. 0.]\n",
      "[[1. 0. 0.]]\n",
      "anger\n"
     ]
    }
   ],
   "source": [
    "import numpy as np\n",
    "from sklearn.preprocessing import OneHotEncoder\n",
    "\n",
    "# Define the labels and fit the OneHotEncoder\n",
    "y_train = np.array(['anger', 'anger', 'sad', 'sad', 'happy', 'happy', 'sad', 'happy', 'anger'])\n",
    "enc = OneHotEncoder()\n",
    "y_train_enc = enc.fit_transform(y_train.reshape(-1, 1))\n",
    "\n",
    "# Define the predicted probabilities\n",
    "y_pred = np.array([3.7697814e-02, 1.7825259e-03, 1.9459509e-04])\n",
    "\n",
    "# Get the index of the highest probability\n",
    "pred_index = np.argmax(y_pred)\n",
    "\n",
    "\n",
    "# Convert the index to a one-hot encoded vector\n",
    "pred_index_2d = np.zeros_like(y_pred)\n",
    "pred_index_2d[pred_index] = 1\n",
    "\n",
    "# Inverse transform the one-hot encoded vector to get the predicted label\n",
    "pred_label_enc = enc.inverse_transform(pred_index_2d.reshape(1, -1))\n",
    "pred_label = pred_label_enc[0][0]\n",
    "\n",
    "# Print the predicted label\n",
    "print(pred_label)"
   ],
   "metadata": {
    "collapsed": false
   }
  },
  {
   "cell_type": "code",
   "execution_count": null,
   "outputs": [],
   "source": [],
   "metadata": {
    "collapsed": false
   }
  }
 ],
 "metadata": {
  "kernelspec": {
   "display_name": "Python 3",
   "language": "python",
   "name": "python3"
  },
  "language_info": {
   "codemirror_mode": {
    "name": "ipython",
    "version": 2
   },
   "file_extension": ".py",
   "mimetype": "text/x-python",
   "name": "python",
   "nbconvert_exporter": "python",
   "pygments_lexer": "ipython2",
   "version": "2.7.6"
  }
 },
 "nbformat": 4,
 "nbformat_minor": 0
}
